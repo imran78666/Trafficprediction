{
 "cells": [
  {
   "cell_type": "code",
   "execution_count": null,
   "id": "58c0f658-64bd-4c02-89f2-9d5c18d7a876",
   "metadata": {},
   "outputs": [
    {
     "name": "stdout",
     "output_type": "stream",
     "text": [
      "Enter area name:  jagannaickpur\n",
      "Enter city name:  kakinada\n",
      "Enter your email:  munnaimran50@gmail.com\n"
     ]
    },
    {
     "name": "stdout",
     "output_type": "stream",
     "text": [
      "🚦 Accident Risk: High Risk\n",
      "✅ Email alert sent!\n"
     ]
    }
   ],
   "source": [
    "import requests\n",
    "import joblib\n",
    "import smtplib\n",
    "from email.mime.text import MIMEText\n",
    "\n",
    "# ---------------- Step 1: Get Location Coordinates ----------------\n",
    "def get_lat_lon(area, city):\n",
    "    url = f\"https://geocode.maps.co/search?q={area},{city}&api_key=67ab21aa63f4d508193346tcs5f87a3\"\n",
    "    response = requests.get(url).json()\n",
    "    \n",
    "    if response and isinstance(response, list):\n",
    "        return float(response[0][\"lat\"]), float(response[0][\"lon\"])\n",
    "    else:\n",
    "        print(\"❌ Failed to get location data.\")\n",
    "        return None, None\n",
    "\n",
    "# ---------------- Step 2: Fetch Live Traffic Data ----------------\n",
    "def get_live_traffic_data(lat, lon):\n",
    "    return 0.5  # Replace with real API if needed\n",
    "\n",
    "# ---------------- Step 3: Predict Accident Risk ----------------\n",
    "def predict_accident_risk(features):\n",
    "    model = joblib.load(\"random_forest.pkl\")  # Load trained model\n",
    "    prediction = model.predict([features])\n",
    "    return \"High Risk\" if prediction[0] == 1 else \"Low Risk\"\n",
    "\n",
    "# ---------------- Step 4: Send Email Alerts ----------------\n",
    "def send_email_alert(email, area, city):\n",
    "    sender_email = \"munnaimran50@gmail.com\"\n",
    "    sender_password = \"bssd xxst kfxg daht\"\n",
    "      # Use App Password for security\n",
    "    subject = \"🚨 Accident Risk Alert!\"\n",
    "    body = f\"⚠️ High accident risk detected at {area}, {city}. Drive safely! 🚗💨\"\n",
    "    \n",
    "    msg = MIMEText(body)\n",
    "    msg[\"Subject\"] = subject\n",
    "    msg[\"From\"] = sender_email\n",
    "    msg[\"To\"] = email\n",
    "\n",
    "    try:\n",
    "        server = smtplib.SMTP(\"smtp.gmail.com\", 587)\n",
    "        server.starttls()\n",
    "        server.login(sender_email, sender_password)\n",
    "        server.sendmail(sender_email, email, msg.as_string())\n",
    "        server.quit()\n",
    "        print(\"✅ Email alert sent!\")\n",
    "    except Exception as e:\n",
    "        print(f\"❌ Email sending failed: {e}\")\n",
    "\n",
    "# ---------------- Step 5: Main Function to Check Accident Risk ----------------\n",
    "def check_accident_risk():\n",
    "    area = input(\"Enter area name: \")\n",
    "    city = input(\"Enter city name: \")\n",
    "    email = input(\"Enter your email: \")\n",
    "    \n",
    "    lat, lon = get_lat_lon(area, city)\n",
    "    if lat and lon:\n",
    "        traffic_data = get_live_traffic_data(lat, lon)\n",
    "        features = [18, 3, 2, traffic_data, 1]  # Example input features\n",
    "        risk = predict_accident_risk(features)\n",
    "        \n",
    "        print(f\"🚦 Accident Risk: {risk}\")\n",
    "        \n",
    "        if risk == \"High Risk\":\n",
    "            send_email_alert(email, area, city)\n",
    "    else:\n",
    "        print(\"❌ Could not fetch location data.\")\n",
    "\n",
    "# ---------------- Step 6: Run the Function ----------------\n",
    "check_accident_risk()\n"
   ]
  },
  {
   "cell_type": "code",
   "execution_count": null,
   "id": "27e6531b-da12-4298-aecb-13404ae63601",
   "metadata": {},
   "outputs": [],
   "source": []
  }
 ],
 "metadata": {
  "kernelspec": {
   "display_name": "Python 3 (ipykernel)",
   "language": "python",
   "name": "python3"
  },
  "language_info": {
   "codemirror_mode": {
    "name": "ipython",
    "version": 3
   },
   "file_extension": ".py",
   "mimetype": "text/x-python",
   "name": "python",
   "nbconvert_exporter": "python",
   "pygments_lexer": "ipython3",
   "version": "3.13.2"
  }
 },
 "nbformat": 4,
 "nbformat_minor": 5
}
